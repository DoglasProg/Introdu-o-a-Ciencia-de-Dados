{
 "cells": [
  {
   "cell_type": "markdown",
   "metadata": {},
   "source": [
    "# 5. A arte de predizer (Regressão Linear)\n",
    "\n",
    "Regressões constituem uma ferramenta importantíssima em ciência de dados. O objetivo principal do estudo de regressões, em Estatística, é predizer o valor de uma ou mais variáveis em função de outras.\n",
    "\n",
    "Ententa... a ideia aqui é entender a natureza do relacionamento. Quanto uma variável A impacta em uma variável B - isso para o caso da Regressão Linear Simples. No caso da Relação Linear Múltipla, como um conjunto de variáveis relacionadas entre si impactam em uma variável resposta (label).\n",
    "\n",
    "A função linear é definida por ***y = a + bx + erro***, sendo o y o label (valor a ser predito), a o coeficiente de intercecção, b o valor de inclinação da reta e b o valor peso. \n",
    "\n",
    "\n"
   ]
  },
  {
   "cell_type": "code",
   "execution_count": 1,
   "metadata": {},
   "outputs": [],
   "source": [
    "# Carregando as bibliotas\n",
    "\n",
    "import matplotlib.pyplot as plt\n",
    "import numpy as np\n",
    "import pandas as pd\n",
    "from sklearn import linear_model"
   ]
  },
  {
   "cell_type": "code",
   "execution_count": 2,
   "metadata": {},
   "outputs": [],
   "source": [
    "# Variáveis \n",
    "#atributos = [\"Year\", \"WinterRain\", \"AGST\", \"HarvestRain\", \"Age\", \"FrancePop\"]\n",
    "atributos = [\"AGST\", \"WinterRain\"]\n",
    "label = [\"Price\"]"
   ]
  },
  {
   "cell_type": "code",
   "execution_count": 3,
   "metadata": {},
   "outputs": [],
   "source": [
    "# Carregando dados para treino\n",
    "dataset_treino = pd.read_csv('dados/wine.csv', delimiter=',')\n",
    "# Visualizando dados e estrutura\n",
    "dataset_treino.head()\n",
    "# Slice de dados\n",
    "dataset_treino_x = dataset_treino[atributos]\n",
    "dataset_treino_y = dataset_treino[label]"
   ]
  },
  {
   "cell_type": "code",
   "execution_count": 4,
   "metadata": {},
   "outputs": [
    {
     "data": {
      "text/html": [
       "<div>\n",
       "<style scoped>\n",
       "    .dataframe tbody tr th:only-of-type {\n",
       "        vertical-align: middle;\n",
       "    }\n",
       "\n",
       "    .dataframe tbody tr th {\n",
       "        vertical-align: top;\n",
       "    }\n",
       "\n",
       "    .dataframe thead th {\n",
       "        text-align: right;\n",
       "    }\n",
       "</style>\n",
       "<table border=\"1\" class=\"dataframe\">\n",
       "  <thead>\n",
       "    <tr style=\"text-align: right;\">\n",
       "      <th></th>\n",
       "      <th>Price</th>\n",
       "    </tr>\n",
       "  </thead>\n",
       "  <tbody>\n",
       "    <tr>\n",
       "      <th>0</th>\n",
       "      <td>7.4950</td>\n",
       "    </tr>\n",
       "    <tr>\n",
       "      <th>1</th>\n",
       "      <td>8.0393</td>\n",
       "    </tr>\n",
       "    <tr>\n",
       "      <th>2</th>\n",
       "      <td>7.6858</td>\n",
       "    </tr>\n",
       "    <tr>\n",
       "      <th>3</th>\n",
       "      <td>6.9845</td>\n",
       "    </tr>\n",
       "    <tr>\n",
       "      <th>4</th>\n",
       "      <td>6.7772</td>\n",
       "    </tr>\n",
       "  </tbody>\n",
       "</table>\n",
       "</div>"
      ],
      "text/plain": [
       "    Price\n",
       "0  7.4950\n",
       "1  8.0393\n",
       "2  7.6858\n",
       "3  6.9845\n",
       "4  6.7772"
      ]
     },
     "execution_count": 4,
     "metadata": {},
     "output_type": "execute_result"
    }
   ],
   "source": [
    "dataset_treino_y.head()"
   ]
  },
  {
   "cell_type": "code",
   "execution_count": 5,
   "metadata": {},
   "outputs": [
    {
     "data": {
      "text/plain": [
       "LinearRegression(copy_X=True, fit_intercept=True, n_jobs=1, normalize=False)"
      ]
     },
     "execution_count": 5,
     "metadata": {},
     "output_type": "execute_result"
    }
   ],
   "source": [
    "# Criando uma semente para a reprodutibilidade do experimento\n",
    "np.random.seed(0)\n",
    "\n",
    "# Instanciando o modelo de Regressão Linear\n",
    "modelo = linear_model.LinearRegression()\n",
    "\n",
    "# Realizando o treinamento do modelo\n",
    "modelo.fit(dataset_treino_x, dataset_treino_y)\n"
   ]
  },
  {
   "cell_type": "code",
   "execution_count": 6,
   "metadata": {},
   "outputs": [],
   "source": [
    "# Carregando dados para teste\n",
    "dataset_teste = pd.read_csv('dados/wine_test.csv', delimiter=',')\n",
    "# Slice de dados\n",
    "dataset_teste_x = dataset_teste[atributos]\n",
    "\n",
    "# Valores reais e que serão utilizados para comparação\n",
    "dataset_teste_y = dataset_teste[label]"
   ]
  },
  {
   "cell_type": "code",
   "execution_count": 7,
   "metadata": {},
   "outputs": [
    {
     "data": {
      "text/html": [
       "<div>\n",
       "<style scoped>\n",
       "    .dataframe tbody tr th:only-of-type {\n",
       "        vertical-align: middle;\n",
       "    }\n",
       "\n",
       "    .dataframe tbody tr th {\n",
       "        vertical-align: top;\n",
       "    }\n",
       "\n",
       "    .dataframe thead th {\n",
       "        text-align: right;\n",
       "    }\n",
       "</style>\n",
       "<table border=\"1\" class=\"dataframe\">\n",
       "  <thead>\n",
       "    <tr style=\"text-align: right;\">\n",
       "      <th></th>\n",
       "      <th>Price</th>\n",
       "    </tr>\n",
       "  </thead>\n",
       "  <tbody>\n",
       "    <tr>\n",
       "      <th>0</th>\n",
       "      <td>6.9541</td>\n",
       "    </tr>\n",
       "    <tr>\n",
       "      <th>1</th>\n",
       "      <td>6.4979</td>\n",
       "    </tr>\n",
       "  </tbody>\n",
       "</table>\n",
       "</div>"
      ],
      "text/plain": [
       "    Price\n",
       "0  6.9541\n",
       "1  6.4979"
      ]
     },
     "execution_count": 7,
     "metadata": {},
     "output_type": "execute_result"
    }
   ],
   "source": [
    "dataset_teste_y.head()"
   ]
  },
  {
   "cell_type": "code",
   "execution_count": 8,
   "metadata": {},
   "outputs": [],
   "source": [
    "# Predição\n",
    "valores_preditos = modelo.predict(dataset_teste_x)"
   ]
  },
  {
   "cell_type": "code",
   "execution_count": 9,
   "metadata": {},
   "outputs": [
    {
     "data": {
      "text/plain": [
       "array([[7.02184458],\n",
       "       [6.63046728]])"
      ]
     },
     "execution_count": 9,
     "metadata": {},
     "output_type": "execute_result"
    }
   ],
   "source": [
    "valores_preditos"
   ]
  },
  {
   "cell_type": "code",
   "execution_count": 10,
   "metadata": {},
   "outputs": [
    {
     "data": {
      "text/html": [
       "<div>\n",
       "<style scoped>\n",
       "    .dataframe tbody tr th:only-of-type {\n",
       "        vertical-align: middle;\n",
       "    }\n",
       "\n",
       "    .dataframe tbody tr th {\n",
       "        vertical-align: top;\n",
       "    }\n",
       "\n",
       "    .dataframe thead th {\n",
       "        text-align: right;\n",
       "    }\n",
       "</style>\n",
       "<table border=\"1\" class=\"dataframe\">\n",
       "  <thead>\n",
       "    <tr style=\"text-align: right;\">\n",
       "      <th></th>\n",
       "      <th>Valores_Preditos</th>\n",
       "      <th>Valores_Reais</th>\n",
       "    </tr>\n",
       "  </thead>\n",
       "  <tbody>\n",
       "    <tr>\n",
       "      <th>0</th>\n",
       "      <td>7.021845</td>\n",
       "      <td>6.9541</td>\n",
       "    </tr>\n",
       "    <tr>\n",
       "      <th>1</th>\n",
       "      <td>6.630467</td>\n",
       "      <td>6.4979</td>\n",
       "    </tr>\n",
       "  </tbody>\n",
       "</table>\n",
       "</div>"
      ],
      "text/plain": [
       "   Valores_Preditos  Valores_Reais\n",
       "0          7.021845         6.9541\n",
       "1          6.630467         6.4979"
      ]
     },
     "execution_count": 10,
     "metadata": {},
     "output_type": "execute_result"
    }
   ],
   "source": [
    "# Criando um dataframe de resposta\n",
    "df = pd.DataFrame(data = valores_preditos,columns=[\"Valores_Preditos\"] )\n",
    "# Adicionando uma nova dimensão\n",
    "df[\"Valores_Reais\"] = dataset_teste_y\n",
    "# Visualizando os dados\n",
    "df"
   ]
  },
  {
   "cell_type": "markdown",
   "metadata": {},
   "source": [
    "## 5.2 Analisando a qualidade do modelo"
   ]
  },
  {
   "cell_type": "code",
   "execution_count": 11,
   "metadata": {},
   "outputs": [
    {
     "name": "stdout",
     "output_type": "stream",
     "text": [
      "Soma dos quadrados dos Erros:  Price    0.022163\n",
      "dtype: float64\n"
     ]
    }
   ],
   "source": [
    "# SSE = Sum of squared errors (Soma dos quadrados dos Erros)\n",
    "# O melhor modelo é o que SSE for menor.\n",
    "sse = np.sum((valores_preditos - dataset_teste_y) ** 2)\n",
    "print ('Soma dos quadrados dos Erros: ', sse )\n"
   ]
  },
  {
   "cell_type": "code",
   "execution_count": 12,
   "metadata": {},
   "outputs": [
    {
     "name": "stdout",
     "output_type": "stream",
     "text": [
      "Soma Total de Quadrados:  Price    0.336927\n",
      "dtype: float64\n"
     ]
    }
   ],
   "source": [
    "# SST = (Soma Total de Quadrados) \n",
    "sst = np.sum((dataset_teste_y - dataset_treino_y.mean())**2 )\n",
    "print ('Soma Total de Quadrados: ', sst )\n"
   ]
  },
  {
   "cell_type": "code",
   "execution_count": 13,
   "metadata": {},
   "outputs": [
    {
     "name": "stdout",
     "output_type": "stream",
     "text": [
      "Erro quadrático:  Price    0.029775\n",
      "dtype: float64\n"
     ]
    }
   ],
   "source": [
    "# RMSE (Root Means Square Error) \n",
    "# Trata-se de uma medida de ajuste do modelo. Quão menor for o valor de RMSE, mais o medelo está ajustado\n",
    "rmse = np.sqrt(sse / dataset_treino_y.count())\n",
    "print ('Erro quadrático: ', rmse )"
   ]
  },
  {
   "cell_type": "code",
   "execution_count": 14,
   "metadata": {},
   "outputs": [
    {
     "name": "stdout",
     "output_type": "stream",
     "text": [
      "R^2:  Price    0.934219\n",
      "dtype: float64\n"
     ]
    }
   ],
   "source": [
    "# R^2. Se o valor for 1, o modelo preditivo é perfeito. Quanto mais próximo a 0 (zero), pior o nível de predição. \n",
    "# Quão mais próximo a 1, melhor o modelo.\n",
    "r = 1 - (sse/sst)\n",
    "print ('R^2: ', r)\n",
    "\n",
    "# 0.788211 é considerado um ótimo modelo de predição. (regressão simples)\n"
   ]
  }
 ],
 "metadata": {
  "kernelspec": {
   "display_name": "Python 3",
   "language": "python",
   "name": "python3"
  },
  "language_info": {
   "codemirror_mode": {
    "name": "ipython",
    "version": 3
   },
   "file_extension": ".py",
   "mimetype": "text/x-python",
   "name": "python",
   "nbconvert_exporter": "python",
   "pygments_lexer": "ipython3",
   "version": "3.6.4"
  }
 },
 "nbformat": 4,
 "nbformat_minor": 2
}
