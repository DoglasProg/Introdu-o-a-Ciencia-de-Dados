{
 "cells": [
  {
   "cell_type": "markdown",
   "metadata": {},
   "source": [
    "# 1. Sobre Python\n",
    "\n",
    "Aqui, você irá conhecer o básico necessário sobre Python para trabalhar com ciência de dados."
   ]
  },
  {
   "cell_type": "markdown",
   "metadata": {},
   "source": [
    "## 1.1. Para instalar novas bibliotecas\n",
    "\n",
    "De forma direta, você pode instalar uma biblioteca em Python de três forma:\n",
    "* Baixando o projeto e executando um setup.py da vida\n",
    "* Utilizando o **pip** via linha de comando: *pip install BIBLIOTECA*\n",
    "* Utilizando o **conda** via linha de comando: *conda install BIBLIOTECA*\n",
    "\n",
    "No exemplo a seguir, a biblioteca Theano (https://github.com/Theano/Theano) será instalada."
   ]
  },
  {
   "cell_type": "code",
   "execution_count": 1,
   "metadata": {},
   "outputs": [
    {
     "name": "stdout",
     "output_type": "stream",
     "text": [
      "Collecting Theano\n",
      "  Downloading https://files.pythonhosted.org/packages/62/da/ab486aae8e538d8ae91fa0e6ab26d3a454d7c5c7a66541f40300e58a3314/Theano-1.0.1.tar.gz (2.8MB)\n",
      "Requirement already satisfied: numpy>=1.9.1 in c:\\users\\micro\\anaconda3\\lib\\site-packages (from Theano) (1.14.0)\n",
      "Requirement already satisfied: scipy>=0.14 in c:\\users\\micro\\anaconda3\\lib\\site-packages (from Theano) (1.0.0)\n",
      "Requirement already satisfied: six>=1.9.0 in c:\\users\\micro\\anaconda3\\lib\\site-packages (from Theano) (1.11.0)\n",
      "Building wheels for collected packages: Theano\n",
      "  Running setup.py bdist_wheel for Theano: started\n",
      "  Running setup.py bdist_wheel for Theano: finished with status 'done'\n",
      "  Stored in directory: C:\\Users\\Micro\\AppData\\Local\\pip\\Cache\\wheels\\a7\\8a\\6c\\aad33a6144dc30cc65d437c444090076136d2c0f289f3ce183\n",
      "Successfully built Theano\n",
      "Installing collected packages: Theano\n",
      "Successfully installed Theano-1.0.1\n"
     ]
    }
   ],
   "source": [
    "!pip install Theano"
   ]
  },
  {
   "cell_type": "markdown",
   "metadata": {},
   "source": [
    "## 1.2. Importando as bibliotecas (módulos)\n",
    "\n",
    "As formas mais comuns para importar uma biblioteca (módulo) para o seu ambiente de desenvolvimento são:\n",
    "\n",
    "* Para importar um módulo por completo: **import math**\n",
    "* Para importar um módulo específico: **from math import sqrt**\n",
    "* Para importar um módulo por completo, criando um *nickname*: **import pandas as pd** \n",
    "\n",
    "No exemplo abaixo, a biblioteca Pandas será importada para o ambiente e poderá ser utilizada pelo *nickname* **pd**."
   ]
  },
  {
   "cell_type": "code",
   "execution_count": 2,
   "metadata": {},
   "outputs": [],
   "source": [
    "import pandas as pd"
   ]
  },
  {
   "cell_type": "markdown",
   "metadata": {},
   "source": [
    "## 1.3. Declarando variáveis\n",
    "\n",
    "Variáveis são de extrema importancia em qualquer linguagem de programação. E isso não é diferente em Python. Uma variável é \"algo\" que utilizamos para atribuir algum valor (que será utilizado em nossos programas) de forma temporária. Como o próprio nome já diz, o valor pode ser variado. E uma variável, em Python, pode ser do tipo: **Inteiro, Fload, Bool e NoneType**. Elas também podem ser do tipo complexo (por exemplo, um dataframe, tabela etc.). \n",
    "Para que uma variável seja inciada, faça:\n",
    "\n",
    "**nomeDaVariavel = #valor atribuido**\n",
    "\n",
    "**Ex**:\n",
    "\n",
    "* idade = 35\n",
    "* pi = 3.141592653589931\n",
    "* casado = True\n",
    "* indefinido = None\n",
    "* df = pd.read_csv('dados/who.csv')\n",
    "\n",
    "No exemplo abaixo, iremos instanciar uma variável com o valor de **pi**. Além disso, utilizaremos uma função chamada de **type()**. Ela nos será útil para sabermos o tipo de uma variável."
   ]
  },
  {
   "cell_type": "code",
   "execution_count": 3,
   "metadata": {},
   "outputs": [
    {
     "data": {
      "text/plain": [
       "float"
      ]
     },
     "execution_count": 3,
     "metadata": {},
     "output_type": "execute_result"
    }
   ],
   "source": [
    "pi = 3.141592653589931\n",
    "type(pi)"
   ]
  },
  {
   "cell_type": "markdown",
   "metadata": {},
   "source": [
    "## 1.4 Condicionais (comandos de decisão)\n",
    "\n",
    "Analisar valores e tomar decisão de acordo com eles também é uma atividade comum no dia a dia de um cientista de dados. Os condicionais (ou comandos de decisão) são comuns às linguagens de programação e, em Python, a forma mais simples de implementá-los é:\n",
    "````python\n",
    "#Se a condição for verdadeira...\n",
    "if (pi == 3.141592653589931):\n",
    "    #Faça algo. Caso contrário, e se for...\n",
    "elif (p == 3.14):\n",
    "    #Faça algo novo. Mas, se não for nenhuma das condições anteriores...\n",
    "else:\n",
    "    #Faça isso aqui.\n",
    "````\n",
    "\n",
    "No exemplo abaixo, temos uma implementação de condicional. Além dele, utilizaremos a função **print()** que nos será útil durante o curso."
   ]
  },
  {
   "cell_type": "code",
   "execution_count": 4,
   "metadata": {},
   "outputs": [
    {
     "name": "stdout",
     "output_type": "stream",
     "text": [
      "Valor de pi.\n"
     ]
    }
   ],
   "source": [
    "if (pi == 3.141592653589931):\n",
    "    print ('Valor de pi.')\n",
    "elif (pi == 3.14):\n",
    "    print ('Valor reduzido de pi.')\n",
    "else:\n",
    "    print ('A variável pi não foi instanciada.')"
   ]
  },
  {
   "cell_type": "markdown",
   "metadata": {},
   "source": [
    "## 1.5 Estruturas de repetição \n",
    "\n",
    "As estruturas de repetição, em Python, são simples e objetivas. Temos a estrutua **for** e a estrutura **while**. A estrutura **for** deverá ser utilizada quando precisamos percorrer \"uma lista de valores\" e realizar alguma atividade. Já o **while**, quando devemos utilizar quando existe uma condição de parada. \n",
    "\n",
    "````python\n",
    "\n",
    "# Exemplo de for\n",
    "for i in range(10):\n",
    "    print (i)\n",
    "\n",
    "# Exemplo de while\n",
    "while (valor < 10):\n",
    "    print (valor)\n",
    "\n",
    "````\n",
    "\n",
    "\n"
   ]
  },
  {
   "cell_type": "markdown",
   "metadata": {},
   "source": [
    "## 1.6 Funções\n",
    "\n",
    "Funções estrutura replicáveis. Com elas é possível compartilhar regras e ações. As funções em Python são iniciadas com a palavra reservada **def**, conforme o exemplo abaixo:\n",
    "\n",
    "````python\n",
    "# função de soma\n",
    "def soma(valor1, valor2):\n",
    "    return valor1 + valor2\n",
    "\n",
    "# utilizando a função\n",
    "print (soma(10, 20))\n",
    "````\n",
    "\n",
    "No exemplo abaixo, o valor 30 será impresso no terminal."
   ]
  },
  {
   "cell_type": "code",
   "execution_count": 8,
   "metadata": {},
   "outputs": [
    {
     "name": "stdout",
     "output_type": "stream",
     "text": [
      "30\n"
     ]
    }
   ],
   "source": [
    "def soma(valor1, valor2):\n",
    "    return valor1 + valor2\n",
    "\n",
    "print (soma(10, 20))"
   ]
  },
  {
   "cell_type": "markdown",
   "metadata": {},
   "source": [
    "## 1.7 Trabalhando com estruturas (Arrays/Vetores)\n",
    "\n",
    "Outra atividade comum entre os cientistas de dados é o trabalho com estruturas de *arrays* (também chamadas de vetores). Para iniciar um vetor em Python, devemos fazer:\n",
    "\n",
    "````python\n",
    "idades = [10, 13, 14, 12, 14, 14, 16]\n",
    "\n",
    "````\n",
    "No exemplo abaixo, iniciaremos um vetor de idades.\n"
   ]
  },
  {
   "cell_type": "code",
   "execution_count": 1,
   "metadata": {},
   "outputs": [],
   "source": [
    "idades = [10, 13, 14, 12, 14, 14, 16]"
   ]
  },
  {
   "cell_type": "markdown",
   "metadata": {},
   "source": [
    "### 1.7.1 Obtendo valores de elementos do vetor\n",
    "\n",
    "Para obter um valor específico dentro do vetor, basta informar a **posição** do elemento no próprio vetor. Por exemplo:\n",
    "\n",
    "````python\n",
    "# Obtendo o valor do elemento da posição 2\n",
    "print ( idades[2] )\n",
    "````\n",
    "Execute o comando abaixo. Você perceberá que o valor que será apresentado é 14. Isso porque um vetor, em Python, inicia com a posição 0 (zero)."
   ]
  },
  {
   "cell_type": "code",
   "execution_count": 13,
   "metadata": {},
   "outputs": [
    {
     "name": "stdout",
     "output_type": "stream",
     "text": [
      "14\n"
     ]
    }
   ],
   "source": [
    "print ( idades[2] )\n"
   ]
  },
  {
   "cell_type": "markdown",
   "metadata": {},
   "source": [
    "### 1.7.2 Selecionando intervalos de valor em estuturas\n",
    "\n",
    "Outra atividade comum em ciência de dados é selecionar valores presentes em intervalos. Existem várias formas de realizar esta atividade... no entanto, iremos focar de forma objetiva no que iremos precisar no decorrer do curso.\n",
    "\n",
    "**Para obtermos os valores entre a posição X e a posição Y do vetor idade.**\n",
    "\n",
    "````python\n",
    "print ( idades[2:4] )\n",
    "````\n",
    "\n",
    "**Para obtermos os valores da posição 0 (zero) até a posição X do vetor idade.**\n",
    "\n",
    "````python\n",
    "print ( idades[:4] )\n",
    "````\n",
    "\n",
    "**Para obtermos os valores da posição X até o último elemento do vetor idade.**\n",
    "\n",
    "````python\n",
    "print ( idades[3:] )\n",
    "````\n",
    "\n",
    "**Para obtermos o valor do último elemento do vetor idade.**\n",
    "\n",
    "````python\n",
    "print ( idades[-1] )\n",
    "````"
   ]
  }
 ],
 "metadata": {
  "kernelspec": {
   "display_name": "Python 3",
   "language": "python",
   "name": "python3"
  },
  "language_info": {
   "codemirror_mode": {
    "name": "ipython",
    "version": 3
   },
   "file_extension": ".py",
   "mimetype": "text/x-python",
   "name": "python",
   "nbconvert_exporter": "python",
   "pygments_lexer": "ipython3",
   "version": "3.6.4"
  }
 },
 "nbformat": 4,
 "nbformat_minor": 2
}
