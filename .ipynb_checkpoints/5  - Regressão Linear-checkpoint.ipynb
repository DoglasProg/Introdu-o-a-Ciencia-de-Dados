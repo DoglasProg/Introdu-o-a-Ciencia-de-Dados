{
 "cells": [
  {
   "cell_type": "markdown",
   "metadata": {},
   "source": [
    "# 5. A arte de predizer (Regressão Linear)\n",
    "\n",
    "Regressões constituem uma ferramenta importantíssima em ciência de dados. O objetivo principal do estudo de regressões, em Estatística, é predizer o valor de uma ou mais variáveis em função de outras.\n"
   ]
  },
  {
   "cell_type": "code",
   "execution_count": 6,
   "metadata": {},
   "outputs": [],
   "source": [
    "# Carregando as bibliotas\n",
    "\n",
    "import matplotlib.pyplot as plt\n",
    "import numpy as np\n",
    "import pandas as pd\n",
    "from sklearn import linear_model"
   ]
  },
  {
   "cell_type": "code",
   "execution_count": 19,
   "metadata": {},
   "outputs": [],
   "source": [
    "# Carregando dados para treino\n",
    "dataset_treino = pd.read_csv('dados/wine.csv', delimiter=',')\n",
    "# Visualizando dados e estrutura\n",
    "dataset_treino.head()\n",
    "# Slice de dados\n",
    "dataset_treino_x = dataset_treino[[\"Year\", \"WinterRain\", \"AGST\", \"HarvestRain\", \"Age\", \"FrancePop\"]]\n",
    "dataset_treino_y = dataset_treino[[\"Price\"]]"
   ]
  },
  {
   "cell_type": "code",
   "execution_count": 23,
   "metadata": {},
   "outputs": [
    {
     "data": {
      "text/plain": [
       "LinearRegression(copy_X=True, fit_intercept=True, n_jobs=1, normalize=False)"
      ]
     },
     "execution_count": 23,
     "metadata": {},
     "output_type": "execute_result"
    }
   ],
   "source": [
    "# Criando uma semente para a reprodutibilidade do experimento\n",
    "np.random.seed(0)\n",
    "\n",
    "# Instanciando o modelo de Regressão Linear\n",
    "modelo = linear_model.LinearRegression()\n",
    "\n",
    "# Realizando o treinamento do modelo\n",
    "modelo.fit(dataset_treino_x, dataset_treino_y)\n"
   ]
  },
  {
   "cell_type": "code",
   "execution_count": 42,
   "metadata": {},
   "outputs": [],
   "source": [
    "# Carregando dados para teste\n",
    "dataset_teste = pd.read_csv('dados/wine_test.csv', delimiter=',')\n",
    "# Slice de dados\n",
    "dataset_teste_x = dataset_teste[[\"Year\", \"WinterRain\", \"AGST\", \"HarvestRain\", \"Age\", \"FrancePop\"]]\n",
    "dataset_teste_y = dataset_teste[[\"Price\"]]"
   ]
  },
  {
   "cell_type": "code",
   "execution_count": 43,
   "metadata": {},
   "outputs": [],
   "source": [
    "# Predição\n",
    "valores_preditos = modelo.predict(dataset_teste_x)"
   ]
  },
  {
   "cell_type": "code",
   "execution_count": 47,
   "metadata": {},
   "outputs": [
    {
     "data": {
      "text/html": [
       "<div>\n",
       "<style scoped>\n",
       "    .dataframe tbody tr th:only-of-type {\n",
       "        vertical-align: middle;\n",
       "    }\n",
       "\n",
       "    .dataframe tbody tr th {\n",
       "        vertical-align: top;\n",
       "    }\n",
       "\n",
       "    .dataframe thead th {\n",
       "        text-align: right;\n",
       "    }\n",
       "</style>\n",
       "<table border=\"1\" class=\"dataframe\">\n",
       "  <thead>\n",
       "    <tr style=\"text-align: right;\">\n",
       "      <th></th>\n",
       "      <th>Valores_Preditos</th>\n",
       "      <th>Valores_Reais</th>\n",
       "    </tr>\n",
       "  </thead>\n",
       "  <tbody>\n",
       "    <tr>\n",
       "      <th>0</th>\n",
       "      <td>6.820462</td>\n",
       "      <td>6.9541</td>\n",
       "    </tr>\n",
       "    <tr>\n",
       "      <th>1</th>\n",
       "      <td>6.751144</td>\n",
       "      <td>6.4979</td>\n",
       "    </tr>\n",
       "  </tbody>\n",
       "</table>\n",
       "</div>"
      ],
      "text/plain": [
       "   Valores_Preditos  Valores_Reais\n",
       "0          6.820462         6.9541\n",
       "1          6.751144         6.4979"
      ]
     },
     "execution_count": 47,
     "metadata": {},
     "output_type": "execute_result"
    }
   ],
   "source": [
    "# Criando um dataframe de resposta\n",
    "df = pd.DataFrame(data = valores_preditos,columns=[\"Valores_Preditos\"] )\n",
    "# Adicionando uma nova dimensão\n",
    "df[\"Valores_Reais\"] = dataset_teste_y\n",
    "# Visualizando os dados\n",
    "df"
   ]
  },
  {
   "cell_type": "code",
   "execution_count": 45,
   "metadata": {},
   "outputs": [
    {
     "data": {
      "text/plain": [
       "0.21206719055956147"
      ]
     },
     "execution_count": 45,
     "metadata": {},
     "output_type": "execute_result"
    }
   ],
   "source": [
    "# Score\n",
    "modelo.score(dataset_teste_x, dataset_teste_y)"
   ]
  },
  {
   "cell_type": "code",
   "execution_count": 46,
   "metadata": {},
   "outputs": [
    {
     "data": {
      "text/plain": [
       "Price    0.040996\n",
       "dtype: float64"
      ]
     },
     "execution_count": 46,
     "metadata": {},
     "output_type": "execute_result"
    }
   ],
   "source": [
    "# Cálculo do erro quadrático\n",
    "np.mean((modelo.predict(dataset_teste_x) - dataset_teste_y) ** 2)"
   ]
  },
  {
   "cell_type": "markdown",
   "metadata": {},
   "source": [
    "## Referências\n",
    "\n",
    "http://neylsoncrepalde.github.io/2018-02-25-regressao-linear-python/\n"
   ]
  }
 ],
 "metadata": {
  "kernelspec": {
   "display_name": "Python 3",
   "language": "python",
   "name": "python3"
  },
  "language_info": {
   "codemirror_mode": {
    "name": "ipython",
    "version": 3
   },
   "file_extension": ".py",
   "mimetype": "text/x-python",
   "name": "python",
   "nbconvert_exporter": "python",
   "pygments_lexer": "ipython3",
   "version": "3.6.4"
  }
 },
 "nbformat": 4,
 "nbformat_minor": 2
}
